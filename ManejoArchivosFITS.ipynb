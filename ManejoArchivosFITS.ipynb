{
 "cells": [
  {
   "cell_type": "markdown",
   "metadata": {},
   "source": [
    "# Universidad de Costa Rica\n",
    "## Centro de Investigaciones Espaciales - CINESPA\n",
    "\n",
    "Proyecto:  Estudio de la radiación de microondas y rayos X como índicadores de la velocidad de propagación de CME's en el medio interplanetario.\n",
    "\n",
    "Coordinadores: Carolina Salas -\n",
    "               Felipe Meza\n",
    "               \n",
    "Asistente: Yasser Wagon\n",
    "\n",
    "Periodo: II ciclo- 2018\n",
    "\n",
    "\n",
    "# Manejo de archivos FITS usando la librería Astropy\n",
    "\n",
    "Las imágenes solares, contenidas en archivos FITS, requieren ser manejadas por librerías especializadas para ello. Astropy es una librería muy utilizada para lograr dicho objetivo. A continuación se describen funciones básicas para el manejo de archivos FITS.\n",
    "\n",
    "Flexible Image Transport System (FITS) es un formato de archivo usado en astronomía. Los archivos se conforman de una lista de Header Data Unit (HDU) tambien llamado HDUList, cada HDU consta de un encabezado y un array de datos. El array de datos puede ser una imagen o una tabla. \n"
   ]
  },
  {
   "cell_type": "markdown",
   "metadata": {},
   "source": [
    "Se importan las librerías necesarias, entre la que se encuentra 'fits' de Astropy. Además se importan numpy y matplotlib.\n"
   ]
  },
  {
   "cell_type": "code",
   "execution_count": 1,
   "metadata": {},
   "outputs": [],
   "source": [
    "from astropy.io import fits\n",
    "import numpy as np\n",
    "import matplotlib.pyplot as plt\n"
   ]
  },
  {
   "cell_type": "markdown",
   "metadata": {},
   "source": [
    "Los archivos FITS se encuentran en la carpeta \"ImageFITS\" del repositorio. Para abrir un archivo FITS, se utiliza la función fits.open()"
   ]
  },
  {
   "cell_type": "code",
   "execution_count": 2,
   "metadata": {},
   "outputs": [
    {
     "name": "stdout",
     "output_type": "stream",
     "text": [
      "Filename: ImageFITS/5.fits\n",
      "No.    Name      Ver    Type      Cards   Dimensions   Format\n",
      "  0  PRIMARY       1 PrimaryHDU     248   (2048, 2048)   int16 (rescales to uint16)   \n"
     ]
    }
   ],
   "source": [
    "sunImageFile = fits.open('ImageFITS/5.fits')\n",
    "sunImageFile.info()"
   ]
  },
  {
   "cell_type": "markdown",
   "metadata": {},
   "source": [
    "Es posible obtener el HDUList del archivo FITS, con el método HDUList.info(). Es importante notar que la función fits.open(), retorna un objeto HDUList.\n",
    "\n",
    "Se observa que '5.fits' contiene solo un HDU llamado PRIMARY. El header contiene 248 datos, y el tamaño de la imagen es de 2048x2048 pixeles.\n",
    "\n",
    "Cada HDU posee dos atributos, el header y el arreglo de datos. Se imprime el header del archivo '5.fits',"
   ]
  },
  {
   "cell_type": "code",
   "execution_count": 3,
   "metadata": {},
   "outputs": [
    {
     "data": {
      "text/plain": [
       "SIMPLE  =                    T / Written by IDL:  Wed Jan  4 17:40:11 2012      \n",
       "BITPIX  =                   16 /                                                \n",
       "NAXIS   =                    2 /                                                \n",
       "NAXIS1  =                 2048 /                                                \n",
       "NAXIS2  =                 2048 /                                                \n",
       "DATE-OBS= '2012-01-01T01:06:15.005' /                                           \n",
       "FILEORIG= 'C101008A.443'       /                                                \n",
       "SEB_PROG= 'NORMAL  '           /                                                \n",
       "SYNC    =                    F /                                                \n",
       "SPWX    =                    F /                                                \n",
       "EXPCMD  =              4.00179 /                                                \n",
       "EXPTIME =              4.00206 / from MEB                                       \n",
       "DSTART1 =                    1 /                                                \n",
       "DSTOP1  =                 2048 /                                                \n",
       "DSTART2 =                    1 /                                                \n",
       "DSTOP2  =                 2048 /                                                \n",
       "P1COL   =                   51 /                                                \n",
       "P2COL   =                 2098 /                                                \n",
       "P1ROW   =                    1 /                                                \n",
       "P2ROW   =                 2048 /                                                \n",
       "R1COL   =                  129 /                                                \n",
       "R2COL   =                 2176 /                                                \n",
       "R1ROW   =                   79 /                                                \n",
       "R2ROW   =                 2126 /                                                \n",
       "RECTIFY =                    T /                                                \n",
       "RECTROTA=                    6 /transpose and rotate 180 deg CCW                \n",
       "LEDCOLOR= 'NONE    '           /                                                \n",
       "LEDPULSE=                    0 /                                                \n",
       "OFFSET  =                  600 /                                                \n",
       "BIASMEAN=              725.554 /                                                \n",
       "BIASSDEV=            0.0230000 /                                                \n",
       "GAINCMD =                    1 /                                                \n",
       "GAINMODE= 'HIGH    '           /                                                \n",
       "SUMMED  =              1.00000 /                                                \n",
       "SUMROW  =                    1 /                                                \n",
       "SUMCOL  =                    1 /                                                \n",
       "CEB_T   =                   42 /                                                \n",
       "TEMP_CCD=             -70.3148 /                                                \n",
       "POLAR   =             -1.00000 /                                                \n",
       "ENCODERP=                    4 /                                                \n",
       "WAVELNTH=                  304 /                                                \n",
       "ENCODERQ=                    4 /                                                \n",
       "FILTER  = 'S1      '           /                                                \n",
       "ENCODERF=                   22 /                                                \n",
       "FPS_ON  =                    T /                                                \n",
       "OBS_PROG= '        '           /                                                \n",
       "DOORSTAT=                    2 /OPEN                                            \n",
       "SHUTTDIR= 'CW      '           /                                                \n",
       "READ_TBL=                    0 /tbl061206/read21762048.tblv1.1                  \n",
       "CLR_TBL =                    1 /tbl061206/clear2.tblv1.1                        \n",
       "READFILE= 'ops/tables/default/rotbtb1a.img1.7' /                                \n",
       "DATE-CLR= '2012-01-01T01:06:14.245' /                                           \n",
       "DATE-RO = '2012-01-01T01:06:19.157' /                                           \n",
       "READTIME=        4.85187101364 /                                                \n",
       "CLEARTIM=       0.544247984886 /                                                \n",
       "IP_TIME =                   14 /                                                \n",
       "COMPRSSN=                   95 /ICER5                                           \n",
       "COMPFACT=              27.5992 / From file sizes                                \n",
       "NMISSING=                    0 /out of 32 segments                              \n",
       "MISSLIST= '        '           /                                                \n",
       "SETUPTBL= 'ops/tables/BLD501/setuptba.img' /                                    \n",
       "EXPOSTBL= 'source/is/src/expostba.img1.33' /                                    \n",
       "MASK_TBL= 'NONE    '           /source/ip/src/occulta.img1.32                   \n",
       "IP_TBL  = 'source/is/src/imagetbl.img1.149' /                                   \n",
       "COMMENT EXP TIME from MEB                                                       \n",
       "COMMENT Est. clear duration = 0.700000 sec.                                     \n",
       "COMMENT check ATT_FILE for pointing source, using DATE OBS                      \n",
       "COMMENT No compression error message detected.                                  \n",
       "HISTORY Id: make_scc_hdr.pro,v 1.175 2011/11/23 14:12:32 secchia Exp            \n",
       "HISTORY Id: getsccsecpix.pro,v 1.15 2008/05/02 17:09:59 nathan Exp              \n",
       "HISTORY Id: getscccrpix.pro,v 1.10 2011/09/19 22:12:23 nathan Exp               \n",
       "HISTORY Id: getsccpointing.pro,v 1.11 2011/09/21 21:23:43 nathan Exp            \n",
       "DIV2CORR=                    T /mod by scc_icerdiv2.pro in secchi_reduce        \n",
       "DISTCORR=                    F /                                                \n",
       "TEMPAFT1=              14.8467 /                                                \n",
       "TEMPAFT2=              19.6259 /                                                \n",
       "TEMPMID1=              14.6132 /                                                \n",
       "TEMPMID2=              31.5337 /                                                \n",
       "TEMPFWD1=              35.4069 /                                                \n",
       "TEMPFWD2=              34.7626 /                                                \n",
       "TEMPTHRM=              9999.00 /                                                \n",
       "TEMP_CEB=              37.2860 /                                                \n",
       "ORIGIN  = 'NRL     '           /                                                \n",
       "DETECTOR= 'EUVI    '           /                                                \n",
       "IMGCTR  =                  298 /                                                \n",
       "TIMGCTR =                19686 /                                                \n",
       "OBJECT  = '        '           /                                                \n",
       "FILENAME= '20120101_010615_n4euA.fts' /                                         \n",
       "DATE    = '2012-01-04T22:40:07.415' /                                           \n",
       "INSTRUME= 'SECCHI  '           /                                                \n",
       "OBSRVTRY= 'STEREO_A'           /                                                \n",
       "TELESCOP= 'STEREO  '           /                                                \n",
       "WAVEFILE= 'ops/tables/BLD501/wavetb1a.img' /                                    \n",
       "CCDSUM  =              1.00000 /                                                \n",
       "IPSUM   =              1.00000 /                                                \n",
       "DATE-CMD= '2012-01-01T01:06:15.000' /                                           \n",
       "DATE-AVG= '2012-01-01T01:06:17.006' /                                           \n",
       "DATE-END= '2012-01-01T01:06:19.007' /                                           \n",
       "OBT_TIME=        0.00000000000 /                                                \n",
       "APID    =                 1092 /                                                \n",
       "OBS_ID  =                 1640 /                                                \n",
       "OBSSETID=                    0 /                                                \n",
       "IP_PROG0=                   41 /Use SSR1 APID                                   \n",
       "IP_PROG1=                   76 /IP Trim                                         \n",
       "IP_PROG2=                    1 /Divide by 2                                     \n",
       "IP_PROG3=                   95 /ICER5                                           \n",
       "IP_PROG4=                    0 /No Operation                                    \n",
       "IP_PROG5=                    0 /No Operation                                    \n",
       "IP_PROG6=                    0 /No Operation                                    \n",
       "IP_PROG7=                    0 /No Operation                                    \n",
       "IP_PROG8=                    0 /No Operation                                    \n",
       "IP_PROG9=                    0 /No Operation                                    \n",
       "IP_00_19= ' 41 76  1 95  0  0  0  0  0  0  0  0  0  0  0  0  0  0  0  0' /      \n",
       "IMGSEQ  =                    0 /                                                \n",
       "OBSERVER= '        '           /                                                \n",
       "BUNIT   = 'DN      '           /                                                \n",
       "BLANK   =               -32768 / FITS standard for UINT                         \n",
       "FPS_CMD =                    T /                                                \n",
       "VERSION =                    4 /                                                \n",
       "CEB_STAT=                    0 /SUCCESSFUL_RESPONSE                             \n",
       "CAM_STAT=                    1 /CAMERA_READY                                    \n",
       "READPORT= 'L       '           /                                                \n",
       "CMDOFFSE=              0.00000 /                                                \n",
       "RO_DELAY=      0.0237600002438 /                                                \n",
       "LINE_CLR=    0.000123999998323 /                                                \n",
       "LINE_RO =     0.00234999996610 /                                                \n",
       "BSCALE  =              1.00000 /                                                \n",
       "BZERO   =                32768 /Data is Unsigned Integer                        \n",
       "SCSTATUS=                  256 /                                                \n",
       "SCANT_ON=                    F /                                                \n",
       "SCFP_ON =                    T /                                                \n",
       "CADENCE =                  599 /                                                \n",
       "CRITEVT = '0xF000  '           /                                                \n",
       "EVENT   =                    F /                                                \n",
       "EVCOUNT = '      -1'           /                                                \n",
       "EVROW   =                    0 /                                                \n",
       "EVCOL   =                    0 /                                                \n",
       "COSMICS =                    0 /                                                \n",
       "N_IMAGES=                    1 /                                                \n",
       "VCHANNEL=                   13 /                                                \n",
       "OFFSETCR=              0.00000 /                                                \n",
       "DOWNLINK= 'SSR1    '           /                                                \n",
       "DATAMIN =              684.000 /                                                \n",
       "DATAMAX =              16402.0 /                                                \n",
       "DATAZER =                    0 /                                                \n",
       "DATASAT =                   75 /                                                \n",
       "DSATVAL =                15000 /                                                \n",
       "DATAAVG =              877.047 /                                                \n",
       "DATASIG =              305.758 /                                                \n",
       "DATAP01 =                  722 /                                                \n",
       "DATAP10 =                  724 /                                                \n",
       "DATAP25 =                  726 /                                                \n",
       "DATAP50 =                  732 /                                                \n",
       "DATAP75 =                  974 /                                                \n",
       "DATAP90 =                 1184 /                                                \n",
       "DATAP95 =                 1344 /                                                \n",
       "DATAP98 =                 1630 /                                                \n",
       "DATAP99 =                 1898 /                                                \n",
       "CRPIX1  =              1021.81 / before GT was 1022.5                           \n",
       "CRPIX2  =              926.218 / before GT was 1024.5                           \n",
       "CRPIX1A =              1021.81 /                                                \n",
       "CRPIX2A =              926.218 /                                                \n",
       "RSUN    =        995.983660169 /                                                \n",
       "CTYPE1  = 'HPLN-TAN'           /                                                \n",
       "CTYPE2  = 'HPLT-TAN'           /                                                \n",
       "CRVAL1  =        0.00000000000 /                                                \n",
       "CRVAL2  =        0.00000000000 /                                                \n",
       "CROTA   =        4.91571862402 /                                                \n",
       "PC1_1   =       0.996321825269 /                                                \n",
       "PC1_2   =     -0.0856902590247 /                                                \n",
       "PC2_1   =      0.0856902590247 /                                                \n",
       "PC2_2   =       0.996321825269 /                                                \n",
       "CUNIT1  = 'arcsec  '           /                                                \n",
       "CUNIT2  = 'arcsec  '           /                                                \n",
       "CDELT1  =        1.58777403831 /                                                \n",
       "CDELT2  =        1.58777403831 /                                                \n",
       "PV2_1   =        0.00000000000 /                                                \n",
       "PV2_1A  =        0.00000000000 /                                                \n",
       "SC_ROLL =        4.79571861925 /degrees                                         \n",
       "SC_PITCH=       -33.5720933865 /arcsec                                          \n",
       "SC_YAW  =        10.2540695674 /arcsec                                          \n",
       "SC_ROLLA=        21.1254218619 /                                                \n",
       "SC_PITA =        10.3880590187 /                                                \n",
       "SC_YAWA =        24.9958252934 /                                                \n",
       "INS_R0  =        0.00000000000 / deg                                            \n",
       "INS_Y0  =       -136.707305908 / arcsec                                         \n",
       "INS_X0  =       -4.76332187653 / arcsec                                         \n",
       "CTYPE1A = 'RA---TAN'           /                                                \n",
       "CTYPE2A = 'DEC--TAN'           /                                                \n",
       "CUNIT1A = 'deg     '           /                                                \n",
       "CUNIT2A = 'deg     '           /                                                \n",
       "CRVAL1A =        24.9942852773 /                                                \n",
       "CRVAL2A =        10.3976915217 /                                                \n",
       "PC1_1A  =       0.932036826375 /                                                \n",
       "PC1_2A  =       0.362363566436 /                                                \n",
       "PC2_1A  =      -0.362363566436 /                                                \n",
       "PC2_2A  =       0.932036826375 /                                                \n",
       "CDELT1A =   -0.000441048343976 /                                                \n",
       "CDELT2A =    0.000441048343976 /                                                \n",
       "CRLN_OBS=        224.609673551 /                                                \n",
       "CRLT_OBS=       -5.46765139224 /                                                \n",
       "XCEN    =       -9.11797111687 /                                                \n",
       "YCEN    =        155.841470977 /                                                \n",
       "EPHEMFIL= 'ahead_2011_354_01.epm.bsp' /                                         \n",
       "ATT_FILE= 'ahead_2012_001_03.ah.bc+0GT' /                                       \n",
       "DSUN_OBS=        144037319085. /                                                \n",
       "HCIX_OBS=       -94830575780.2 /                                                \n",
       "HCIY_OBS=        107543254586. /                                                \n",
       "HCIZ_OBS=       -13724415444.2 /                                                \n",
       "HAEX_OBS=       -128404449003. /                                                \n",
       "HAEY_OBS=       -65261360691.6 /                                                \n",
       "HAEZ_OBS=       -39572712.8089 /                                                \n",
       "HEEX_OBS=       -42360556470.7 /                                                \n",
       "HEEY_OBS=        137667464537. /                                                \n",
       "HEEZ_OBS=       -41862183.1538 /                                                \n",
       "HEQX_OBS=       -43124897878.5 /                                                \n",
       "HEQY_OBS=        136742944581. /                                                \n",
       "HEQZ_OBS=       -13724415444.2 /                                                \n",
       "LONPOLE =                  180 /                                                \n",
       "HGLN_OBS=        107.503816055 /                                                \n",
       "HGLT_OBS=       -5.46765139224 /                                                \n",
       "EAR_TIME=        10.2289831527 /                                                \n",
       "SUN_TIME=        480.456780153 /                                                \n",
       "JITRSDEV=      0.0635075047612 /                                                \n",
       "FPSNUMS =                 1228 /                                                \n",
       "FPSOFFY =                    0 /                                                \n",
       "FPSOFFZ =                    0 /                                                \n",
       "FPSGTSY =                  617 /                                                \n",
       "FPSGTSZ =                   36 /                                                \n",
       "FPSGTQY =                 1629 /                                                \n",
       "FPSGTQZ =                  768 /                                                \n",
       "FPSERS1 =                 1857 /                                                \n",
       "FPSERS2 =                 1727 /                                                \n",
       "FPSERS3 =                 1589 /                                                \n",
       "FPSERQ1 =               116683 /                                                \n",
       "FPSERQ2 =               268401 /                                                \n",
       "FPSERQ3 =               127275 /                                                \n",
       "FPSDAS1 =               157311 /                                                \n",
       "FPSDAS2 =               156570 /                                                \n",
       "FPSDAS3 =               157286 /                                                \n",
       "FPSDAQ1 =             20152367 /                                                \n",
       "FPSDAQ2 =             19963982 /                                                \n",
       "FPSDAQ3 =             20146418 /                                                \n",
       "HISTORY Id: secchi_reduce.pro,v 1.391 2011/12/15 16:29:28 nathan Exp            \n",
       "HISTORY Processed on iapetus: x86 linux IDL7.0                                  \n",
       "HISTORY Id: scc_icerdiv2.pro,v 1.19 2011/09/15 21:57:35 nathan Exp              \n",
       "HISTORY Id: secchi_rectify.pro,v 1.22 2009/12/14 18:49:22 nathan Exp            \n",
       "HISTORY Id: euvi_point.pro,v 1.14 2011/02/02 12:54:32 mcnutt Exp                "
      ]
     },
     "execution_count": 3,
     "metadata": {},
     "output_type": "execute_result"
    }
   ],
   "source": [
    "sunImageFile[0].header\n"
   ]
  },
  {
   "cell_type": "markdown",
   "metadata": {},
   "source": [
    "Para guardar algún card (datos que conforman el header) en una variable, se puede hacer de forma indexada o utilizando la etiqueta. Se obtiene e imprime la fecha de observación utilizando ambas formas."
   ]
  },
  {
   "cell_type": "code",
   "execution_count": 4,
   "metadata": {},
   "outputs": [
    {
     "name": "stdout",
     "output_type": "stream",
     "text": [
      "2012-01-01T01:06:15.005\n",
      "2012-01-01T01:06:15.005\n"
     ]
    }
   ],
   "source": [
    "date1 = sunImageFile[0].header[5]\n",
    "date2 = sunImageFile[0].header['DATE-OBS']\n",
    "\n",
    "print date1\n",
    "print date2"
   ]
  },
  {
   "cell_type": "markdown",
   "metadata": {},
   "source": [
    "Se puede obtener el arreglo de datos del HDU de dos formas. Una es usando la función fits.getdata(), y la otra es accediendo al atributo data que posee cada objeto HDU. A continuación, se obtiene la imagen contenida en el archivo '5.fits' de las dos formas ya comentadas. Seguidamente se imprime la matriz que representa la imagen y dimensión de la misma."
   ]
  },
  {
   "cell_type": "code",
   "execution_count": 7,
   "metadata": {},
   "outputs": [
    {
     "name": "stdout",
     "output_type": "stream",
     "text": [
      "[[730 730 730 ..., 722 722 722]\n",
      " [728 728 728 ..., 722 722 722]\n",
      " [726 726 726 ..., 722 722 722]\n",
      " ..., \n",
      " [724 724 724 ..., 724 724 724]\n",
      " [724 724 724 ..., 724 724 724]\n",
      " [724 724 724 ..., 724 724 724]]\n",
      "(2048, 2048)\n",
      "\n",
      "\n",
      "[[730 730 730 ..., 722 722 722]\n",
      " [728 728 728 ..., 722 722 722]\n",
      " [726 726 726 ..., 722 722 722]\n",
      " ..., \n",
      " [724 724 724 ..., 724 724 724]\n",
      " [724 724 724 ..., 724 724 724]\n",
      " [724 724 724 ..., 724 724 724]]\n",
      "(2048, 2048)\n"
     ]
    }
   ],
   "source": [
    "image_data1 = fits.getdata('ImageFITS/5.fits', ext=0)\n",
    "image_data2 = sunImageFile[0].data\n",
    "\n",
    "print(image_data1)\n",
    "print(image_data1.shape)\n",
    "print('\\n')\n",
    "print(image_data2)\n",
    "print(image_data2.shape)"
   ]
  },
  {
   "cell_type": "markdown",
   "metadata": {},
   "source": [
    "Se desplega la imagen con la librería matplotlib. Es posible guardar la imagen resultante usando la función plt.savefig()."
   ]
  },
  {
   "cell_type": "code",
   "execution_count": 11,
   "metadata": {},
   "outputs": [
    {
     "data": {
      "text/plain": [
       "<matplotlib.colorbar.Colorbar at 0x7efbcda48ed0>"
      ]
     },
     "execution_count": 11,
     "metadata": {},
     "output_type": "execute_result"
    },
    {
     "data": {
      "image/png": "[encoded data removed]",
      "text/plain": [
       "<Figure size 432x288 with 2 Axes>"
      ]
     },
     "metadata": {},
     "output_type": "display_data"
    }
   ],
   "source": [
    "%matplotlib inline\n",
    "plt.figure()\n",
    "plt.imshow(image_data1)\n",
    "plt.colorbar()"
   ]
  },
  {
   "cell_type": "markdown",
   "metadata": {},
   "source": [
    "![title](outFitsImagePLT.png)\n",
    "![title](outFitsImageCV.png)"
   ]
  },
  {
   "cell_type": "code",
   "execution_count": null,
   "metadata": {},
   "outputs": [],
   "source": []
  }
 ],
 "metadata": {
  "kernelspec": {
   "display_name": "Python 2",
   "language": "python",
   "name": "python2"
  },
  "language_info": {
   "codemirror_mode": {
    "name": "ipython",
    "version": 2
   },
   "file_extension": ".py",
   "mimetype": "text/x-python",
   "name": "python",
   "nbconvert_exporter": "python",
   "pygments_lexer": "ipython2",
   "version": "2.7.13"
  }
 },
 "nbformat": 4,
 "nbformat_minor": 2
}
